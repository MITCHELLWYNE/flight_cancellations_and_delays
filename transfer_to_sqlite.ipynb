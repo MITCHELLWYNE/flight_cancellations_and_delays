{
 "cells": [
  {
   "cell_type": "code",
   "execution_count": 1,
   "id": "ee36811d",
   "metadata": {},
   "outputs": [],
   "source": [
    "import csv\n",
    "import sqlite3"
   ]
  },
  {
   "cell_type": "code",
   "execution_count": 2,
   "id": "db464a91",
   "metadata": {},
   "outputs": [],
   "source": [
    "conn = sqlite3.connect('flight_canellations.db')"
   ]
  },
  {
   "cell_type": "code",
   "execution_count": 3,
   "id": "6a1f89b2",
   "metadata": {},
   "outputs": [],
   "source": [
    "cursor =conn.cursor()"
   ]
  },
  {
   "cell_type": "code",
   "execution_count": 4,
   "id": "7b8f4805",
   "metadata": {},
   "outputs": [
    {
     "ename": "OperationalError",
     "evalue": "table \"airline_delay_cause\" already exists",
     "output_type": "error",
     "traceback": [
      "\u001b[1;31m---------------------------------------------------------------------------\u001b[0m",
      "\u001b[1;31mOperationalError\u001b[0m                          Traceback (most recent call last)",
      "\u001b[1;32m~\\AppData\\Local\\Temp\\ipykernel_38652\\2798745035.py\u001b[0m in \u001b[0;36m<module>\u001b[1;34m\u001b[0m\n\u001b[0;32m     23\u001b[0m         \u001b[1;34m\"late_aircraft_delay\"\u001b[0m \u001b[0mfloat\u001b[0m\u001b[1;33m\u001b[0m\u001b[1;33m\u001b[0m\u001b[0m\n\u001b[0;32m     24\u001b[0m     );\t\n\u001b[1;32m---> 25\u001b[1;33m ''')\n\u001b[0m",
      "\u001b[1;31mOperationalError\u001b[0m: table \"airline_delay_cause\" already exists"
     ]
    }
   ],
   "source": [
    "cursor.execute('''\n",
    "    CREATE TABLE \"airline_delay_cause\" (\n",
    "\t\"year\" INT not null, \n",
    "\t\"month\" INT not null,\n",
    "\t\"carrier\" VARCHAR(5) not null,\n",
    "\t\"carrier_name\" VARCHAR(30) not null,\n",
    "\t\"airport\" VARCHAR(5) not null,\n",
    "\t\"airport_name\" VARCHAR(100) not null,\n",
    "\t\"arr_flights\" VARCHAR(30),\n",
    "\t\"arr_del15\" float,\n",
    "\t\"carrier_ct\" float,\n",
    "\t\"weather_ct\" float,\n",
    "\t\"nas_ct\" float,\n",
    "\t\"security_ct\" float,\n",
    "\t\"late_aircraft\" float,\n",
    "\t\"arr_cancelled\" float,\n",
    "\t\"arr_diverted\" float,\n",
    "\t\"arr_delayed\" float,\n",
    "\t\"carrier_delay\" float,\n",
    "\t\"weather_delay\" float,\n",
    "\t\"nas_delay\" float,\n",
    "\t\"security_delay\" float,\n",
    "\t\"late_aircraft_delay\" float\n",
    "    );\t\n",
    "''')\n"
   ]
  },
  {
   "cell_type": "code",
   "execution_count": 5,
   "id": "577150dc",
   "metadata": {},
   "outputs": [],
   "source": [
    "with open('Airline_Delay_Cause 2022.csv', 'r') as csvfile:\n",
    "    csvreader = csv.reader(csvfile)\n",
    "    next(csvreader)\n",
    "    for row in csvreader:\n",
    "        cursor.execute('''\n",
    "            INSERT INTO airline_delay_cause ('year', 'month', 'carrier', 'carrier_name', 'airport',\n",
    "            'airport_name', 'arr_flights', 'arr_del15', 'carrier_ct', 'weather_ct', 'nas_ct', 'security_ct',\n",
    "            'late_aircraft', 'arr_cancelled', 'arr_diverted', 'arr_delayed', 'carrier_delay', 'weather_delay',\n",
    "            'nas_delay', 'security_delay', 'late_aircraft_delay')\n",
    "            VALUES (?, ?, ?, ?, ?, ?, ?, ?, ?, ?, ?, ?, ?, ?, ?, ?, ?, ?, ?, ?, ?)\n",
    "        ''', row)"
   ]
  },
  {
   "cell_type": "code",
   "execution_count": 6,
   "id": "1833c363",
   "metadata": {},
   "outputs": [],
   "source": [
    "conn.commit()\n",
    "conn.close()"
   ]
  },
  {
   "cell_type": "code",
   "execution_count": 7,
   "id": "9985fe9c",
   "metadata": {},
   "outputs": [],
   "source": [
    "import shutil\n"
   ]
  },
  {
   "cell_type": "code",
   "execution_count": 10,
   "id": "da4e1128",
   "metadata": {},
   "outputs": [],
   "source": [
    "source_file = 'flight_canellations.db'\n",
    "destination_file = 'flight_cancellations.sqlite'"
   ]
  },
  {
   "cell_type": "code",
   "execution_count": 12,
   "id": "24178c3a",
   "metadata": {
    "scrolled": false
   },
   "outputs": [
    {
     "data": {
      "text/plain": [
       "'flight_cancellations.sqlite'"
      ]
     },
     "execution_count": 12,
     "metadata": {},
     "output_type": "execute_result"
    }
   ],
   "source": [
    "shutil.copy2(source_file, destination_file)"
   ]
  },
  {
   "cell_type": "code",
   "execution_count": 13,
   "id": "10c1c4b1",
   "metadata": {},
   "outputs": [],
   "source": [
    "import sqlalchemy\n",
    "from sqlalchemy.ext.automap import automap_base\n",
    "from sqlalchemy.orm import Session\n",
    "from sqlalchemy import create_engine, func\n",
    "\n",
    "from flask import Flask, jsonify"
   ]
  },
  {
   "cell_type": "code",
   "execution_count": 14,
   "id": "a1f97513",
   "metadata": {},
   "outputs": [],
   "source": [
    "engine = create_engine(\"sqlite:///flight_cancellations.sqlite\")"
   ]
  }
 ],
 "metadata": {
  "kernelspec": {
   "display_name": "PythonData",
   "language": "python",
   "name": "pythondata"
  },
  "language_info": {
   "codemirror_mode": {
    "name": "ipython",
    "version": 3
   },
   "file_extension": ".py",
   "mimetype": "text/x-python",
   "name": "python",
   "nbconvert_exporter": "python",
   "pygments_lexer": "ipython3",
   "version": "3.7.7"
  }
 },
 "nbformat": 4,
 "nbformat_minor": 5
}
